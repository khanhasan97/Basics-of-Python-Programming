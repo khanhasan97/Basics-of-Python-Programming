{
 "cells": [
  {
   "cell_type": "code",
   "execution_count": 22,
   "metadata": {},
   "outputs": [
    {
     "name": "stdout",
     "output_type": "stream",
     "text": [
      "Enter the number\t0\n",
      "factorial for zero is 1\n"
     ]
    }
   ],
   "source": [
    "#Q1 :\n",
    "#Write a Python function to calculate the factorial of a number (a non-negative integer). The function accepts the number as an argument.\n",
    "\n",
    "def factorial(num) :\n",
    "\n",
    "    factorial = 1;\n",
    "    \n",
    "    if num < 0 :\n",
    "        print(\"factorial doesn't exist for negative number\");\n",
    "    elif num == 0 :\n",
    "        print(\"factorial for zero is 1\");\n",
    "        \n",
    "    else :\n",
    "        \n",
    "        for i in range (1,num+1):\n",
    "            factorial = factorial*i;\n",
    "        print(\"The factorial is \", factorial);\n",
    "\n",
    "\n",
    "num = int(input(\"Enter the number\\t\"))        \n",
    "factorial(num)"
   ]
  },
  {
   "cell_type": "code",
   "execution_count": 22,
   "metadata": {},
   "outputs": [
    {
     "name": "stdout",
     "output_type": "stream",
     "text": [
      "Enter String:HeLlo\n",
      "\n",
      "Upper case 2\n",
      "\n",
      "Lower case 3\n"
     ]
    }
   ],
   "source": [
    "# Q2:\n",
    "# Write a Python function that accepts a string and calculate the number of uppercase letters and lower case letters.\n",
    "\n",
    "def CountUpperLower(stns):\n",
    "    upper=0;\n",
    "    lower=0;\n",
    "    for i in stns:\n",
    "        if i>=\"A\" and i<=\"Z\":\n",
    "            upper +=1;\n",
    "        elif i>=\"a\" and i<=\"z\":\n",
    "            lower +=1;\n",
    "    print(\"\\nUpper case\",upper);\n",
    "    print(\"\\nLower case\", lower);\n",
    "\n",
    "stns = input(\"Enter String:\");\n",
    "CountUpperLower(stns);"
   ]
  },
  {
   "cell_type": "code",
   "execution_count": 21,
   "metadata": {},
   "outputs": [
    {
     "name": "stdout",
     "output_type": "stream",
     "text": [
      "Enter number of element you want to enter\t5\n",
      "\n",
      "26\n",
      "\n",
      "14\n",
      "\n",
      "3\n",
      "\n",
      "5\n",
      "\n",
      "2\n",
      "26, 14, 2, "
     ]
    }
   ],
   "source": [
    "#Q3:\n",
    "#Write a Python function to print the even numbers from a given list.\n",
    "\n",
    "List = [];\n",
    "n = int(input(\"Enter number of element you want to enter\\t\"));\n",
    "for i in range(0, n):\n",
    "    num= int(input(\"\\n\"));\n",
    "    List.append(num)\n",
    "#print(List);\n",
    "def EvenNum(List):\n",
    "    for num in List:\n",
    "        if num % 2==0:  \n",
    "            print(num, end =\", \");\n",
    "EvenNum(List);"
   ]
  },
  {
   "cell_type": "code",
   "execution_count": 27,
   "metadata": {},
   "outputs": [
    {
     "name": "stdout",
     "output_type": "stream",
     "text": [
      "Etner word to check is it Palindrome: hannah\n",
      "The string is a palindrome\n"
     ]
    }
   ],
   "source": [
    "#Q4:\n",
    "# Write a Python function that checks whether a passed string is palindrome or not.\n",
    "\n",
    "def checkPaln(string):\n",
    "    if(string==string[::-1]):\n",
    "        print(\"The string is a palindrome\")\n",
    "    else:\n",
    "        print(\"Not a palindrome\")\n",
    "string= input(\"Etner word to check is it Palindrome: \");\n",
    "checkPaln(string)"
   ]
  },
  {
   "cell_type": "code",
   "execution_count": 47,
   "metadata": {},
   "outputs": [
    {
     "name": "stdout",
     "output_type": "stream",
     "text": [
      "Enter any number: 15\n",
      "Not a prime Number\n",
      "3 times 5 is 15.\n"
     ]
    }
   ],
   "source": [
    "#Q5:\n",
    "#Write a Python function that takes a number as a parameter and check the number is prime or not.\n",
    "\n",
    "\n",
    "def isPositiveInteger(number):\n",
    "    try:\n",
    "        number = int(number)\n",
    "        return True\n",
    "    except:\n",
    "        return False\n",
    "\n",
    "def checkPrime(number):\n",
    "    isPrime = isPositiveInteger(number)\n",
    "    if isPrime:\n",
    "        number = int(number)\n",
    "        for i in range(2, number):\n",
    "            if (number % i == 0):\n",
    "                print(\"Not a prime Number\")\n",
    "                print(\"{} times {} is {}.\".format(i, number // i, number))\n",
    "                break\n",
    "        else:\n",
    "            print(\"{} is a prime number.\".format(number))\n",
    "    else:\n",
    "        print(\"Enter positive integers only\")\n",
    "number = input(\"Enter any number: \")\n",
    "checkPrime(number)\n"
   ]
  },
  {
   "cell_type": "code",
   "execution_count": 50,
   "metadata": {},
   "outputs": [
    {
     "name": "stdout",
     "output_type": "stream",
     "text": [
      "Enter Shopping item [-1 to abort]:\ttomato\n",
      "Enter Shopping item [-1 to abort]:\tpotato\n",
      "Enter Shopping item [-1 to abort]:\tonion\n",
      "Enter Shopping item [-1 to abort]:\trice\n",
      "Enter Shopping item [-1 to abort]:\tmeat\n",
      "Enter Shopping item [-1 to abort]:\t-1\n",
      "\n",
      "You purchased item: tomato\n",
      "\n",
      "You purchased item: potato\n",
      "\n",
      "You purchased item: onion\n",
      "\n",
      "You purchased item: rice\n",
      "\n",
      "You purchased item: meat\n"
     ]
    }
   ],
   "source": [
    "#Q6:\n",
    "#Write a function which accepts the multiple arguments of user shopping list and print all the items which user bought from market.\n",
    "\n",
    "def shoppingList(*items):\n",
    "    shoppingItems = []\n",
    "    while True:\n",
    "        item = input(\"Enter Shopping item [-1 to abort]:\\t\")\n",
    "        if item != '-1':\n",
    "            shoppingItems.append(item)\n",
    "        else:\n",
    "            break\n",
    "    for item in range(len(shoppingItems)):\n",
    "        print(\"\\nYou purchased item: {}\".format(shoppingItems[item]))\n",
    "shoppingList()\n"
   ]
  },
  {
   "cell_type": "code",
   "execution_count": null,
   "metadata": {},
   "outputs": [],
   "source": []
  }
 ],
 "metadata": {
  "kernelspec": {
   "display_name": "Python 3",
   "language": "python",
   "name": "python3"
  },
  "language_info": {
   "codemirror_mode": {
    "name": "ipython",
    "version": 3
   },
   "file_extension": ".py",
   "mimetype": "text/x-python",
   "name": "python",
   "nbconvert_exporter": "python",
   "pygments_lexer": "ipython3",
   "version": "3.7.4"
  }
 },
 "nbformat": 4,
 "nbformat_minor": 2
}
