{
 "cells": [
  {
   "cell_type": "code",
   "execution_count": 6,
   "metadata": {},
   "outputs": [
    {
     "name": "stdout",
     "output_type": "stream",
     "text": [
      "\n",
      " {'first_name': 'Mohammad', 'Last_name': 'Abdullah', 'age': 21, 'city_name': 'Karachi'}\n",
      "\n",
      "After updating dictionary:\n",
      "\n",
      " {'first_name': 'Mohammad', 'Last_name': 'Abdullah', 'age': 21, 'city_name': 'Karachi', 'Qualification': 'Intermediate'}\n",
      "\n",
      "After Updating Qualification :\n",
      "\n",
      " {'first_name': 'Mohammad', 'Last_name': 'Abdullah', 'age': 21, 'city_name': 'Karachi', 'Qualification': 'Bachelors'}\n",
      "\n",
      "After Deleting the Qualification :\n",
      "\n",
      " {'first_name': 'Mohammad', 'Last_name': 'Abdullah', 'age': 21, 'city_name': 'Karachi'}\n"
     ]
    }
   ],
   "source": [
    "#Q1 Use a dictionary to store information about a person you know. Store their first name, last name, age, and the city in which they live. You should have keys such as first_name, last_name, age, and city. Print each piece of information stored in your dictionary. Add a new key value pair about qualification then update the qualification value to high academic level then delete it.\n",
    "\n",
    "\n",
    "person_info = {\n",
    "        \"first_name\" : \"Mohammad\",\n",
    "        \"Last_name\" : \"Abdullah\",\n",
    "        \"age\" : 21 ,\n",
    "        \"city_name\" : \"Karachi\"\n",
    "}\n",
    "\n",
    "print(\"\\n\",person_info);\n",
    "\n",
    "additional_info = {\n",
    "    \"Qualification\" : \"Intermediate\"\n",
    "}\n",
    "\n",
    "person_info.update(additional_info)\n",
    "\n",
    "print(\"\\nAfter updating dictionary:\\n\\n\",person_info)\n",
    "\n",
    "person_info[\"Qualification\"] = \"Bachelors\"\n",
    "print(\"\\nAfter Updating Qualification :\\n\\n\",person_info)\n",
    "\n",
    "del person_info[\"Qualification\"]\n",
    "\n",
    "print(\"\\nAfter Deleting the Qualification :\\n\\n\",person_info)"
   ]
  },
  {
   "cell_type": "code",
   "execution_count": 7,
   "metadata": {},
   "outputs": [
    {
     "name": "stdout",
     "output_type": "stream",
     "text": [
      "Karachi {'country_name': 'Pakistan', 'population': 1574406, 'fact': 'It is the Sixth largest city in the world by city population.'}\n",
      "\n",
      "\n",
      "Lahore {'country_name': 'Pakistan', 'population': 12188196, 'fact': 'It is historically an important place in the South Asian Subcontinent.'}\n",
      "\n",
      "\n",
      "Islamabad {'country_name': 'Pakistan', 'population': 1095064, 'fact': 'It is the capital city for the Islamic Republic of Pakistan.'}\n"
     ]
    }
   ],
   "source": [
    "#Q2 Make a dictionary called cities. Use the names of three cities as keys in your dictionary. Create a dictionary of information about each city and include the country that the city is in, its approximate population, and one fact about that city. The keys for each city’s dictionary should be something like country, population, and fact. Print the name of each city and all of the information you have stored about it.\n",
    "\n",
    "\n",
    "Cities = [\n",
    "    {\n",
    "        \"city_name_1\" : \"Karachi\",\n",
    "        \"city_name_2\" : \"Lahore\",\n",
    "        \"city_name_3\" : \"Islamabad\"\n",
    "            \n",
    "    }\n",
    "]\n",
    "\n",
    "cities_info = [\n",
    "    {\n",
    "        \"country_name\" : \"Pakistan\",\n",
    "        \"population\" : 1574406,\n",
    "        \"fact\" : \"It is the Sixth largest city in the world by city population.\"\n",
    "    },\n",
    "    \n",
    "    {\n",
    "        \"country_name\" : \"Pakistan\",\n",
    "        \"population\" : 12188196,\n",
    "        \"fact\" : \"It is historically an important place in the South Asian Subcontinent.\"\n",
    "    },\n",
    "    \n",
    "    {\n",
    "        \"country_name\" : \"Pakistan\",\n",
    "        \"population\" : 1095064,\n",
    "        \"fact\" : \"It is the capital city for the Islamic Republic of Pakistan.\"\n",
    "    }\n",
    "]\n",
    "print(Cities[0][\"city_name_1\"],cities_info[0])\n",
    "print(\"\\n\")\n",
    "print(Cities[0][\"city_name_2\"],cities_info[1])\n",
    "print(\"\\n\")\n",
    "print(Cities[0][\"city_name_3\"],cities_info[2])"
   ]
  },
  {
   "cell_type": "code",
   "execution_count": 20,
   "metadata": {},
   "outputs": [
    {
     "name": "stdout",
     "output_type": "stream",
     "text": [
      "\n",
      "Enter your age : \t2\n",
      "\n",
      "\tYou can enter for free \n",
      "\n",
      "Enter your age : \t11\n",
      "\n",
      "\tYour Ticket is of 10$ \n",
      "\n",
      "Enter your age : \t55\n",
      "\n",
      "\tYour Ticket is of 15$ \n"
     ]
    }
   ],
   "source": [
    "#Q3 A movie theater charges different ticket prices depending on a person’s age. If a person is under the age of 3, the ticket is free; if they are between 3 and 12, the ticket is $10; and if they are over age 12, the ticket is $15. Write a loop in which you ask users their age, and then tell them the cost of their movie ticket.\n",
    "\n",
    "\n",
    "for i in range(0,3) :\n",
    "    \n",
    "        age = int(input(\"\\nEnter your age : \\t\"));\n",
    "            \n",
    "        i = age ;\n",
    "        \n",
    "        if i < 3 :\n",
    "            print(\"\\n\\tYou can enter for free \");\n",
    "        elif 3 <= i <= 12 :\n",
    "            print(\"\\n\\tYour Ticket is of 10$ \");\n",
    "        elif i > 12 :\n",
    "            print(\"\\n\\tYour Ticket is of 15$ \");\n",
    "        else :\n",
    "            print(\"Enter the correct age\");"
   ]
  },
  {
   "cell_type": "code",
   "execution_count": 1,
   "metadata": {},
   "outputs": [
    {
     "name": "stdout",
     "output_type": "stream",
     "text": [
      "The Fault in Our Stars is one of my favorite book\n"
     ]
    }
   ],
   "source": [
    "#Q4 Write a function called favorite_book() that accepts one parameter, title. The function should print a message, such as One of my favorite books is Alice in Wonderland. Call the function, making sure to include a book title as an argument in the function call.\n",
    "\n",
    "def favorite_book (title) :\n",
    "    message = \"is one of my favorite book\";\n",
    "    book = title + \" \" + message\n",
    "    print(book);\n",
    "    \n",
    "title = \"The Fault in Our Stars\";\n",
    "favorite_book(title)\n",
    "    \n",
    "    \n",
    "    "
   ]
  },
  {
   "cell_type": "code",
   "execution_count": 4,
   "metadata": {},
   "outputs": [
    {
     "name": "stdout",
     "output_type": "stream",
     "text": [
      "please guess a number b/w 1 and 30 : \n",
      "5\n",
      "Guess Higher!!\n",
      "9\n",
      "Guess Higher!!\n",
      "15\n",
      "Guess Lower !!\n",
      "\n",
      "Sorry you only had 3 chances , the correct answer was :  10\n"
     ]
    }
   ],
   "source": [
    "#Q5 Write a program which randomly generate a number between 1 to 30 and ask the user in input field to guess the correct number. Give three chances to user guess the number and also give hint to user if hidden number is greater or smaller than the number he given to input field.\n",
    "\n",
    "import random \n",
    "highest = 30\n",
    "answer = random.randint(1 , highest)\n",
    "\n",
    "\n",
    "print(\"please guess a number b/w 1 and 30 : \");\n",
    "\n",
    "for i in range (1 , 4):\n",
    "    guess = int(input())\n",
    "    if guess != answer :\n",
    "        if guess > answer :\n",
    "            print(\"Guess Lower !!\");\n",
    "        else :\n",
    "            print(\"Guess Higher!!\");\n",
    "    else :\n",
    "        print(\"you guessed Right!!\");\n",
    "        break \n",
    "if i == 3 and guess != answer :\n",
    "    print(\"\\nSorry you only had 3 chances , the correct answer was : \",answer);"
   ]
  },
  {
   "cell_type": "code",
   "execution_count": null,
   "metadata": {},
   "outputs": [],
   "source": []
  },
  {
   "cell_type": "code",
   "execution_count": null,
   "metadata": {},
   "outputs": [],
   "source": []
  }
 ],
 "metadata": {
  "kernelspec": {
   "display_name": "Python 3",
   "language": "python",
   "name": "python3"
  },
  "language_info": {
   "codemirror_mode": {
    "name": "ipython",
    "version": 3
   },
   "file_extension": ".py",
   "mimetype": "text/x-python",
   "name": "python",
   "nbconvert_exporter": "python",
   "pygments_lexer": "ipython3",
   "version": "3.7.4"
  }
 },
 "nbformat": 4,
 "nbformat_minor": 2
}
