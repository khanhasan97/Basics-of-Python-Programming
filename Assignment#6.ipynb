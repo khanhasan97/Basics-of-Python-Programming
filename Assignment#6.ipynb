{
 "cells": [
  {
   "cell_type": "code",
   "execution_count": null,
   "metadata": {},
   "outputs": [],
   "source": [
    "#Q1 Define Object Oriented Programming Language?\n",
    "\n",
    "\"\"\"\n",
    "\n",
    "Object-oriented programming (OOP) refers to a type of computer programming (software design) in which programmers \n",
    "define the data type of a data structure, and also the types of operations (functions) that can be applied to the data \n",
    "structure.\n",
    "Python is a multi-paradigm programming language. Meaning, it supports different programming approach. One of the popular \n",
    "approach to solve a programming problem is by creating objects. This is known as Object-Oriented Programming (OOP).\n",
    "\n",
    "\"\"\""
   ]
  },
  {
   "cell_type": "code",
   "execution_count": null,
   "metadata": {},
   "outputs": [],
   "source": [
    "#Q2 List down the Benefits of OOP?\n",
    "\n",
    "\"\"\"\n",
    "\n",
    "1. Simplicity: software objects model real world objects, so the complexity is reduced and the program structure is very clear.\n",
    "\n",
    "2. Modularity: each object forms a separate entity whose internal workings are decoupled from other parts of the system. \n",
    "\n",
    "3. Modifiability: it is easy to make minor changes in the data representation or the procedures in an OO program. Changes \n",
    "inside a class do not affect any other part of a program, since the only public interface that the external world has to \n",
    "a class is through the use of methods. \n",
    "\n",
    "4. Extensibility: adding new features or responding to changing operating environments can be solved by introducing a \n",
    "few new objects and modifying some existing ones. \n",
    "\n",
    "5. Maintainability: objects can be maintained separately, making locating and fixing problems easier. \n",
    "\n",
    "6. Re-usability: objects can be reused in different programs.\n",
    "\n",
    "\"\"\""
   ]
  },
  {
   "cell_type": "code",
   "execution_count": null,
   "metadata": {},
   "outputs": [],
   "source": [
    "#Q3 Differentiate between function and method?\n",
    "\n",
    "\"\"\"\n",
    "FUNCTION:\n",
    "\n",
    "    A function is a piece of code that is called by name. It can be passed data to operate on (i.e. the parameters) and \n",
    "    can optionally return data (the return value). All data that is passed to a function is explicitly passed.\n",
    "\n",
    "METHOD:\n",
    "\n",
    "    A method is a piece of code that is called by a name that is associated with an object. In most respects it is identical\n",
    "    to a function except for two key differences:\n",
    "\n",
    "        i) A method is implicitly passed the object on which it was called.\n",
    "    \n",
    "        ii) A method is able to operate on data that is contained within the class (remembering that an object is an instance \n",
    "            of a class - the class is the definition, the object is an instance of that data).\n",
    "\n",
    "\"\"\""
   ]
  },
  {
   "cell_type": "code",
   "execution_count": null,
   "metadata": {},
   "outputs": [],
   "source": [
    "#Q4 Define the following terms:\n",
    "\n",
    "\"\"\"\"\n",
    "1. Class:\n",
    "    A class is a code template for creating objects.\n",
    "    \n",
    "2. Object:\n",
    "    Object is simply a collection of data (variables) and methods (functions) that act on data.\n",
    "\n",
    "3. Attribute:\n",
    "    An attribute is a changeable property or characteristic of some component of a program that can be set to different values.\n",
    "    \n",
    "4. Behavior:\n",
    "     It is an approach and technique for software development, which enables incremental development in a natural way.\n",
    "    \n",
    "\n",
    "\n",
    "\"\"\""
   ]
  },
  {
   "cell_type": "code",
   "execution_count": 14,
   "metadata": {},
   "outputs": [
    {
     "name": "stdout",
     "output_type": "stream",
     "text": [
      "Car Name\t\t Bugatti\n",
      "Car Model\t\t 2016\n",
      "Car color\t\t Blue\n",
      "Car number plate\t BE-207\n",
      "Car purchase Date\t 22-09-2017\n"
     ]
    }
   ],
   "source": [
    "#Q5 Write a code in python in which create a class named it Car which have 5 attributes and 3 methods. \n",
    "#And create 5 object instance from that class.\n",
    "\n",
    "\n",
    "class Car():\n",
    "    def __init__ (self, name , model , color):\n",
    "        \n",
    "        self.name = name \n",
    "        self.model = model \n",
    "        self.color = color\n",
    "        \n",
    "    def numplate (self,num_plate):\n",
    "        self.num_plate = num_plate\n",
    "        \n",
    "            \n",
    "    def date(self,purchase_date):\n",
    "        self.purchase_date = purchase_date\n",
    "        \n",
    "        \n",
    "car = Car(\"Bugatti\" , 2016 ,\"Blue\")\n",
    "\n",
    "print(\"Car Name\\t\\t\", car.name)\n",
    "print(\"Car Model\\t\\t\",car.model)\n",
    "print(\"Car color\\t\\t\",car.color)\n",
    "car.numplate(\"BE-207\")\n",
    "print(\"Car number plate\\t\",car.num_plate)\n",
    "car.date(\"22-09-2017\")\n",
    "print(\"Car purchase Date\\t\",car.purchase_date)\n",
    "        \n"
   ]
  },
  {
   "cell_type": "code",
   "execution_count": null,
   "metadata": {},
   "outputs": [],
   "source": []
  }
 ],
 "metadata": {
  "kernelspec": {
   "display_name": "Python 3",
   "language": "python",
   "name": "python3"
  },
  "language_info": {
   "codemirror_mode": {
    "name": "ipython",
    "version": 3
   },
   "file_extension": ".py",
   "mimetype": "text/x-python",
   "name": "python",
   "nbconvert_exporter": "python",
   "pygments_lexer": "ipython3",
   "version": "3.7.4"
  }
 },
 "nbformat": 4,
 "nbformat_minor": 2
}
